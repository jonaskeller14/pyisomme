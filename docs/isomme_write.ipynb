{
 "cells": [
  {
   "cell_type": "code",
   "metadata": {
    "collapsed": true,
    "ExecuteTime": {
     "end_time": "2024-07-11T19:04:19.871787Z",
     "start_time": "2024-07-11T19:04:19.850967Z"
    }
   },
   "source": [
    "import pyisomme"
   ],
   "outputs": [],
   "execution_count": 12
  },
  {
   "metadata": {},
   "cell_type": "markdown",
   "source": "# Read"
  },
  {
   "cell_type": "code",
   "source": [
    "v11391 = pyisomme.Isomme().read(\"../data/nhtsa/11391/11391.mme\", \"11NECKUP0000FO?P\")\n",
    "v11391.print_channel_list()"
   ],
   "metadata": {
    "collapsed": false,
    "pycharm": {
     "name": "#%%\n"
    },
    "ExecuteTime": {
     "end_time": "2024-07-11T19:04:19.902498Z",
     "start_time": "2024-07-11T19:04:19.872789Z"
    }
   },
   "outputs": [
    {
     "name": "stderr",
     "output_type": "stream",
     "text": [
      "Read Channel of 11391: 100%|██████████| 489/489 [00:00<00:00, 28753.48it/s]"
     ]
    },
    {
     "name": "stdout",
     "output_type": "stream",
     "text": [
      "11391 - Channel List:\n",
      "\t001\t11NECKUP0000FOXP\n",
      "\t002\t11NECKUP0000FOYP\n",
      "\t003\t11NECKUP0000FOZP\n"
     ]
    },
    {
     "name": "stderr",
     "output_type": "stream",
     "text": [
      "\n"
     ]
    }
   ],
   "execution_count": 13
  },
  {
   "metadata": {},
   "cell_type": "markdown",
   "source": "# Write"
  },
  {
   "cell_type": "code",
   "source": [
    "v11391.write(\"isomme_write/test1/11391.mme\")"
   ],
   "metadata": {
    "collapsed": false,
    "pycharm": {
     "name": "#%%\n"
    },
    "ExecuteTime": {
     "end_time": "2024-07-11T19:04:20.014234Z",
     "start_time": "2024-07-11T19:04:19.903500Z"
    }
   },
   "outputs": [
    {
     "name": "stderr",
     "output_type": "stream",
     "text": [
      "Write Channel of 11391: 100%|██████████| 3/3 [00:00<00:00, 35.62it/s]\n"
     ]
    },
    {
     "data": {
      "text/plain": [
       "Isomme(11391)"
      ]
     },
     "execution_count": 14,
     "metadata": {},
     "output_type": "execute_result"
    }
   ],
   "execution_count": 14
  },
  {
   "cell_type": "code",
   "source": [
    "v11391.write(\"isomme_write/test2\")"
   ],
   "metadata": {
    "collapsed": false,
    "pycharm": {
     "name": "#%%\n"
    },
    "ExecuteTime": {
     "end_time": "2024-07-11T19:04:20.120640Z",
     "start_time": "2024-07-11T19:04:20.015229Z"
    }
   },
   "outputs": [
    {
     "name": "stderr",
     "output_type": "stream",
     "text": [
      "Write Channel of 11391: 100%|██████████| 3/3 [00:00<00:00, 34.72it/s]\n"
     ]
    },
    {
     "data": {
      "text/plain": [
       "Isomme(11391)"
      ]
     },
     "execution_count": 15,
     "metadata": {},
     "output_type": "execute_result"
    }
   ],
   "execution_count": 15
  },
  {
   "cell_type": "code",
   "source": "v11391.write(\"isomme_write/test3.zip\")",
   "metadata": {
    "collapsed": false,
    "pycharm": {
     "name": "#%%\n"
    },
    "ExecuteTime": {
     "end_time": "2024-07-11T19:04:20.276519Z",
     "start_time": "2024-07-11T19:04:20.122536Z"
    }
   },
   "outputs": [
    {
     "name": "stderr",
     "output_type": "stream",
     "text": [
      "Write Channel of 11391: 100%|██████████| 3/3 [00:00<00:00, 35.23it/s]\n"
     ]
    },
    {
     "data": {
      "text/plain": [
       "Isomme(11391)"
      ]
     },
     "execution_count": 16,
     "metadata": {},
     "output_type": "execute_result"
    }
   ],
   "execution_count": 16
  },
  {
   "metadata": {
    "ExecuteTime": {
     "end_time": "2024-07-11T19:04:20.400565Z",
     "start_time": "2024-07-11T19:04:20.277446Z"
    }
   },
   "cell_type": "code",
   "source": "v11391.write(\"isomme_write/test4.tar\")",
   "outputs": [
    {
     "name": "stderr",
     "output_type": "stream",
     "text": [
      "Write Channel of 11391: 100%|██████████| 3/3 [00:00<00:00, 42.05it/s]\n"
     ]
    },
    {
     "data": {
      "text/plain": [
       "Isomme(11391)"
      ]
     },
     "execution_count": 17,
     "metadata": {},
     "output_type": "execute_result"
    }
   ],
   "execution_count": 17
  },
  {
   "metadata": {
    "ExecuteTime": {
     "end_time": "2024-07-11T19:04:20.557924Z",
     "start_time": "2024-07-11T19:04:20.401565Z"
    }
   },
   "cell_type": "code",
   "source": "v11391.write(\"isomme_write/test5.tar.gz\")",
   "outputs": [
    {
     "name": "stderr",
     "output_type": "stream",
     "text": [
      "Write Channel of 11391: 100%|██████████| 3/3 [00:00<00:00, 38.20it/s]\n"
     ]
    },
    {
     "data": {
      "text/plain": [
       "Isomme(11391)"
      ]
     },
     "execution_count": 18,
     "metadata": {},
     "output_type": "execute_result"
    }
   ],
   "execution_count": 18
  },
  {
   "cell_type": "code",
   "source": [
    "import os\n",
    "\n",
    "def list_files(startpath):\n",
    "    for root, dirs, files in os.walk(startpath):\n",
    "        level = root.replace(startpath, '').count(os.sep)\n",
    "        indent = ' ' * 4 * level\n",
    "        print('{}{}/'.format(indent, os.path.basename(root)))\n",
    "        subindent = ' ' * 4 * (level + 1)\n",
    "        for f in files:\n",
    "            print('{}{}'.format(subindent, f))"
   ],
   "metadata": {
    "collapsed": false,
    "pycharm": {
     "name": "#%%\n"
    },
    "ExecuteTime": {
     "end_time": "2024-07-11T19:04:20.573018Z",
     "start_time": "2024-07-11T19:04:20.557924Z"
    }
   },
   "outputs": [],
   "execution_count": 19
  },
  {
   "cell_type": "code",
   "source": [
    "list_files(\"isomme_write\")"
   ],
   "metadata": {
    "collapsed": false,
    "pycharm": {
     "name": "#%%\n"
    },
    "ExecuteTime": {
     "end_time": "2024-07-11T19:04:20.588722Z",
     "start_time": "2024-07-11T19:04:20.573949Z"
    }
   },
   "outputs": [
    {
     "name": "stdout",
     "output_type": "stream",
     "text": [
      "isomme_write/\n",
      "    test3.zip\n",
      "    test4.tar\n",
      "    test5.tar.gz\n",
      "    test1/\n",
      "        11391.mme\n",
      "        Channel/\n",
      "            11391.001\n",
      "            11391.002\n",
      "            11391.003\n",
      "            11391.chn\n",
      "    test2/\n",
      "        11391.mme\n",
      "        Channel/\n",
      "            11391.001\n",
      "            11391.002\n",
      "            11391.003\n",
      "            11391.chn\n"
     ]
    }
   ],
   "execution_count": 20
  },
  {
   "cell_type": "markdown",
   "source": [],
   "metadata": {
    "collapsed": false,
    "pycharm": {
     "name": "#%% md\n"
    }
   }
  }
 ],
 "metadata": {
  "kernelspec": {
   "display_name": "Python 3",
   "language": "python",
   "name": "python3"
  },
  "language_info": {
   "codemirror_mode": {
    "name": "ipython",
    "version": 2
   },
   "file_extension": ".py",
   "mimetype": "text/x-python",
   "name": "python",
   "nbconvert_exporter": "python",
   "pygments_lexer": "ipython2",
   "version": "2.7.6"
  }
 },
 "nbformat": 4,
 "nbformat_minor": 0
}
